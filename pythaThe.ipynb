{
 "cells": [
  {
   "cell_type": "code",
   "execution_count": 1,
   "metadata": {},
   "outputs": [
    {
     "data": {
      "text/html": [
       "<pre style=\"white-space:pre;overflow-x:auto;line-height:normal;font-family:Menlo,'DejaVu Sans Mono',consolas,'Courier New',monospace\">Manim Community <span style=\"color: #008000; text-decoration-color: #008000\">v0.15.2</span>\n",
       "\n",
       "</pre>\n"
      ],
      "text/plain": [
       "Manim Community \u001b[32mv0.\u001b[0m\u001b[32m15.2\u001b[0m\n",
       "\n"
      ]
     },
     "metadata": {},
     "output_type": "display_data"
    }
   ],
   "source": [
    "from manim import *\n",
    "import math\n",
    "config.media_width = \"100%\""
   ]
  },
  {
   "cell_type": "code",
   "execution_count": 34,
   "metadata": {},
   "outputs": [
    {
     "name": "stderr",
     "output_type": "stream",
     "text": [
      "                                                                                                                                                                                                               \r"
     ]
    },
    {
     "data": {
      "text/html": [
       "<video src=\"media\\jupyter\\Intro@2022-06-02@01-48-42.mp4\" controls autoplay loop style=\"max-width: 100%;\"  >\n",
       "      Your browser does not support the <code>video</code> element.\n",
       "    </video>"
      ],
      "text/plain": [
       "<IPython.core.display.Video object>"
      ]
     },
     "metadata": {},
     "output_type": "display_data"
    }
   ],
   "source": [
    "%%manim -v Warning --disable_caching -qm Intro\n",
    "\n",
    "class Intro(Scene):\n",
    "    def construct(self):\n",
    "        say = Text('\\\"Without mathematics, there\\'s nothing you can do. \\nEverything around you is mathematics. \\nEverything around you is numbers.\\\"', \n",
    "        slant=ITALIC,\n",
    "        font_size=32,\n",
    "        )\n",
    "\n",
    "        name = Text('- Shakuntala Devi', font_size=24, color=RED).shift(DOWN*2+RIGHT*1)\n",
    "\n",
    "\n",
    "        self.play(Create(say),  run_time=4)\n",
    "        self.play(Create(name))\n",
    "        self.wait(duration=2)\n",
    "\n"
   ]
  },
  {
   "cell_type": "code",
   "execution_count": 32,
   "metadata": {},
   "outputs": [
    {
     "name": "stderr",
     "output_type": "stream",
     "text": [
      "                                                                                                                   \r"
     ]
    },
    {
     "data": {
      "text/html": [
       "<video src=\"media\\jupyter\\Geometry@2022-06-02@01-40-36.mp4\" controls autoplay loop style=\"max-width: 100%;\"  >\n",
       "      Your browser does not support the <code>video</code> element.\n",
       "    </video>"
      ],
      "text/plain": [
       "<IPython.core.display.Video object>"
      ]
     },
     "metadata": {},
     "output_type": "display_data"
    }
   ],
   "source": [
    "%%manim -v Warning --disable_caching -pqm Geometry\n",
    "\n",
    "position_list = [\n",
    "            [4, 1, 0],  # middle right\n",
    "            [4, -2.5, 0],  # bottom right\n",
    "            [0, -2.5, 0],  # bottom left\n",
    "            [0, 3, 0],  # top left\n",
    "            [2, 1, 0],  # middle\n",
    "            [4, 3, 0],  # top right\n",
    "        ]\n",
    "\n",
    "\n",
    "class Geometry(Scene):\n",
    "    def construct(self):\n",
    "\n",
    "# Show pythagorean Theorem\n",
    "\n",
    "        text = Text(\"Pythagorean Theorem\", gradient=(RED, BLUE, GREEN), font_size=64)\n",
    "\n",
    "# Create a grid to control the positions\n",
    "\n",
    "        d = VGroup()\n",
    "        for i in range(0,150):\n",
    "            d.add(Dot())\n",
    "        d.arrange_in_grid(buff=0.75).shift(DOWN*1.1)\n",
    "\n",
    "# Create a triangle\n",
    "\n",
    "        tri1 = VGroup()\n",
    "        line1 = Line(d[15].get_center(), d[67].get_center(), color=BLUE)\n",
    "        line2 = Line(d[67].get_center(), d[65].get_center(), color=GREEN)\n",
    "        line3 = Line(d[15].get_center(), d[65].get_center(), color=RED)\n",
    "        tri1.add(line1, line2, line3)\n",
    "\n",
    "        right_angle = always_redraw(lambda: RightAngle(line1, line2 , quadrant=(-1, 1)))\n",
    "\n",
    "        angle_Beta = always_redraw(lambda:  Angle(line2, line3 , quadrant=(-1, -1), radius=0.35, other_angle=False))\n",
    "\n",
    "        angle_Alpha = always_redraw(lambda:  Angle(line1, line3 , quadrant=(1, 1), radius=0.35, other_angle=True))\n",
    "\n",
    "        AlphaTex = always_redraw(lambda: MathTex(r\"\\alpha\").move_to(\n",
    "            Angle(\n",
    "                line1, line3, radius=0.5 + 3 * SMALL_BUFF, other_angle=True\n",
    "            ).point_from_proportion(0.5)\n",
    "        ).scale(0.8)\n",
    "        )\n",
    "\n",
    "        BetaTex = always_redraw(lambda: MathTex(r\"\\beta\").move_to(\n",
    "            Angle(\n",
    "                line2, line3, radius=0.5 + 3 * SMALL_BUFF, other_angle=True\n",
    "            ).point_from_proportion(0.5)\n",
    "        ).scale(0.8)\n",
    "        )\n",
    "\n",
    "        side_a = always_redraw(lambda: Tex(\"a\").next_to(line2, DOWN, buff=0.15).scale(0.8))\n",
    "        side_b = always_redraw(lambda: Tex(\"b\").next_to(line1, RIGHT, buff=0.15).scale(0.8).shift(UP*0.3))\n",
    "        side_c = always_redraw(lambda: Tex(\"c\").next_to(line3, LEFT).scale(0.8).shift(RIGHT*1))\n",
    "\n",
    "# Intro Animation\n",
    "        self.play(AddTextWordByWord(text, run_time=3))\n",
    "        self.play(text.animate.to_edge(UL), run_time=1.5)\n",
    "        self.play(FadeTransform(text, d, stretch=False, run_time=2))\n",
    "        self.play(Create(tri1))\n",
    "        self.play(FadeOut(d))\n",
    "        self.play(FadeIn(side_a), FadeIn(side_b), FadeIn(side_c))\n",
    "        self.play(FadeIn(angle_Alpha), FadeIn(angle_Beta), FadeIn(right_angle), Create(AlphaTex), Create(BetaTex))\n",
    "        self.wait()\n",
    "\n",
    "# Copy Triangles\n",
    "\n",
    "        tri2 = tri1.copy()\n",
    "        tri3 = tri1.copy()\n",
    "        tri4 = tri1.copy()\n",
    "\n",
    "        self.play(tri2.animate.rotate(PI/2), tri3.animate.rotate(-PI/2))\n",
    "        self.play(tri2.animate.next_to(tri1, DOWN, buff=0), tri3.animate.next_to(tri1, RIGHT, buff=0))\n",
    "        self.play(tri2.animate.shift(RIGHT*0.9), tri3.animate.shift(UP*0.9), run_time=0.5)\n",
    "        self.play(tri4.animate.rotate(PI))\n",
    "        self.play(tri4.animate.next_to(tri2, RIGHT, buff=0))\n",
    "        self.play(tri4.animate.shift(UP*0.9))\n",
    "        self.wait()\n",
    "\n",
    "# Complement Sides\n",
    "        sq = Polygon(d[41].get_center(), d[43].get_center(), d[69].get_center(), d[67].get_center(), color=YELLOW)\n",
    "        sq_line = Line(d[41].get_center(), d[43].get_center(), color=YELLOW)\n",
    "        b1 = Brace(sq_line)\n",
    "        b1_text = b1.get_text(\"b-a\").scale(0.8)\n",
    "        side_c2 = always_redraw(lambda: Tex(\"c\").next_to(\n",
    "          Line(d[15].get_center(), d[71].get_center(), color=RED), \n",
    "          UP).scale(0.8).shift(RIGHT*0.8+DOWN*1))\n",
    "\n",
    "        self.play(Create(VGroup(sq, sq_line)), run_time=1.5)\n",
    "        self.play(FadeIn(VGroup(b1, b1_text, side_c2)))\n",
    "        self.wait()\n",
    "\n",
    "# Text Proof\n",
    "        myTemplate = TexTemplate()\n",
    "        myTemplate.add_to_preamble(r\"\\usepackage{mathrsfs}\")\n",
    "        Proof = VGroup(\n",
    "           MathTex(r\"4\\triangle + \\square = \\square\", tex_template=myTemplate, font_size=50),\n",
    "           MathTex(r\"4(\\frac{1}{2}ab) + (b-a)^2 = c^2\", font_size=38),\n",
    "           MathTex(r\"2ab + b^2 - 2ab + a^2 = c^2\", font_size=38),\n",
    "           MathTex(r\"a^2 + b^2 = c^2\", font_size=45)\n",
    "        )\n",
    "\n",
    "        Proof.arrange(DOWN, buff=MED_LARGE_BUFF)\n",
    "        index_labels(Proof[0][0])\n",
    "        Proof[0][0][3].set_color(YELLOW)\n",
    "        Proof[0][0][5].set_color(RED).scale(1.3)\n",
    "        framebox1 = SurroundingRectangle(Proof[3], buff = 0.2).shift(RIGHT*4+DOWN*0.3)\n",
    "\n",
    "        self.play(FadeIn(Proof[0].move_to([4, 2.8, 0])))\n",
    "        self.play(\n",
    "            TransformMatchingTex(Proof[0].copy(), Proof[1].shift(RIGHT*4+UP*0.8)),\n",
    "            run_time=2\n",
    "        )\n",
    "        self.wait()\n",
    "        self.play(\n",
    "            TransformMatchingTex(Proof[1].copy(), Proof[2].shift(RIGHT*4+UP*0.2)),\n",
    "            run_time=2\n",
    "        )\n",
    "        self.wait()\n",
    "        self.play(\n",
    "            TransformMatchingTex(Proof[2].copy(), Proof[3].shift(RIGHT*4+DOWN*0.3)),\n",
    "            run_time=2\n",
    "        )\n",
    "        self.play(Create(framebox1))\n",
    "        self.wait()\n"
   ]
  }
 ],
 "metadata": {
  "interpreter": {
   "hash": "298c87bb46c0ece7abcceec7d9fcd87435e079314f0dee0953f90f5b1b40d0e0"
  },
  "kernelspec": {
   "display_name": "Python 3.8.2 32-bit",
   "language": "python",
   "name": "python3"
  },
  "language_info": {
   "codemirror_mode": {
    "name": "ipython",
    "version": 3
   },
   "file_extension": ".py",
   "mimetype": "text/x-python",
   "name": "python",
   "nbconvert_exporter": "python",
   "pygments_lexer": "ipython3",
   "version": "3.8.2"
  },
  "orig_nbformat": 4
 },
 "nbformat": 4,
 "nbformat_minor": 2
}
